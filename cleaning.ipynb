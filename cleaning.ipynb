{
 "cells": [
  {
   "cell_type": "markdown",
   "metadata": {},
   "source": [
    "# **Step 1: Business Problem Understanding**\n",
    "- Based on given car features, predict the **selling price of used car.**\n",
    "- Required R2 is 0.85 on both train and test data."
   ]
  },
  {
   "cell_type": "code",
   "execution_count": 334,
   "metadata": {},
   "outputs": [],
   "source": [
    "import pandas as pd\n",
    "import numpy as np\n",
    "import matplotlib.pyplot as plt\n",
    "import seaborn as sns\n",
    "\n",
    "import warnings\n",
    "warnings.filterwarnings(\"ignore\")"
   ]
  },
  {
   "cell_type": "markdown",
   "metadata": {},
   "source": [
    "# **Step 2 : Data Understanding**"
   ]
  },
  {
   "cell_type": "code",
   "execution_count": null,
   "metadata": {},
   "outputs": [],
   "source": [
    "df = pd.read_excel(\"cars_data.xlsx\")\n",
    "df.head()"
   ]
  },
  {
   "cell_type": "code",
   "execution_count": null,
   "metadata": {},
   "outputs": [],
   "source": [
    "df.columns"
   ]
  },
  {
   "cell_type": "markdown",
   "metadata": {},
   "source": [
    "\n",
    "**Independent variables**\n",
    " - **Name:** Car Model name along with purchase year of the car.\n",
    " - **Rating:** Rating given while car inspection by cars 24 team.\n",
    " - **City:** City of that car placed for advertainment, city is given interms of code format.\n",
    " - **Kilometres:** How many kilometres that particular car has driven for before placing that advertisement.\n",
    " - **Year of purchase:** Original Date of purchase of that car.\n",
    " - **Owner:** How many previous owners it had before selling on cars24 site.\n",
    " - **Fuel type:** Type of fuel which car runs on. (Petrol, diesel...)\n",
    " - **Transmission:** whether car is automated or manual transmission.\n",
    " - **RTO:** Car registered under which RTO\n",
    " - **Insurance:** expiry date of the insurance if any\n",
    " - **Insurance Type:** Different t types insurance availed by owner.\n",
    "\n",
    "\n",
    "**Target Variable**\n",
    " - **Price:** Price of the used car"
   ]
  },
  {
   "cell_type": "code",
   "execution_count": null,
   "metadata": {},
   "outputs": [],
   "source": [
    "df.info()"
   ]
  },
  {
   "cell_type": "code",
   "execution_count": null,
   "metadata": {},
   "outputs": [],
   "source": [
    "df['Name'].nunique()"
   ]
  },
  {
   "cell_type": "code",
   "execution_count": null,
   "metadata": {},
   "outputs": [],
   "source": [
    "df['RTO'].nunique()"
   ]
  },
  {
   "cell_type": "code",
   "execution_count": null,
   "metadata": {},
   "outputs": [],
   "source": [
    "df['Insurance'].nunique()"
   ]
  },
  {
   "cell_type": "markdown",
   "metadata": {},
   "source": [
    "Drop Unimportant columns as per the Feature selection (**Filter Methods**)"
   ]
  },
  {
   "cell_type": "code",
   "execution_count": 341,
   "metadata": {},
   "outputs": [],
   "source": [
    "df.drop(columns=['Name','RTO','Insurance'],inplace=True)"
   ]
  },
  {
   "cell_type": "code",
   "execution_count": null,
   "metadata": {},
   "outputs": [],
   "source": [
    "df['Rating'].unique()"
   ]
  },
  {
   "cell_type": "code",
   "execution_count": null,
   "metadata": {},
   "outputs": [],
   "source": [
    "df['Rating'].value_counts()"
   ]
  },
  {
   "cell_type": "code",
   "execution_count": null,
   "metadata": {},
   "outputs": [],
   "source": [
    "print(df['city'].unique())\n",
    "print(df['city'].value_counts())\n"
   ]
  },
  {
   "cell_type": "code",
   "execution_count": null,
   "metadata": {},
   "outputs": [],
   "source": [
    "print(df['Fuel_Type'].unique())\n",
    "print(df['Fuel_Type'].value_counts())"
   ]
  },
  {
   "cell_type": "code",
   "execution_count": null,
   "metadata": {},
   "outputs": [],
   "source": [
    "print(df['Insurance_Type'].unique())\n",
    "print(df['Insurance_Type'].value_counts())"
   ]
  },
  {
   "cell_type": "markdown",
   "metadata": {},
   "source": [
    "**Treating wrong data type**"
   ]
  },
  {
   "cell_type": "code",
   "execution_count": 347,
   "metadata": {},
   "outputs": [],
   "source": [
    "# Remove the '₹' symbol and commas, then convert to numeric\n",
    "df['Price'] = df['Price'].str.replace('₹', '', regex=False).str.replace(',', '', regex=False).astype(float)\n"
   ]
  },
  {
   "cell_type": "code",
   "execution_count": 348,
   "metadata": {},
   "outputs": [],
   "source": [
    "# Remove 'out of 5' and extract the numeric rating\n",
    "df['Rating'] = df['Rating'].str.replace('out of 5', '', regex=False).astype(float)\n"
   ]
  },
  {
   "cell_type": "code",
   "execution_count": 349,
   "metadata": {},
   "outputs": [],
   "source": [
    "# Remove 'Kilometers' and 'km', then convert to numeric\n",
    "df['Kilometers'] = df['Kilometers'].str.replace('Kilometers', '', regex=False).str.replace('km', '', regex=False).str.replace(',', '').astype(float)\n"
   ]
  },
  {
   "cell_type": "code",
   "execution_count": 350,
   "metadata": {},
   "outputs": [],
   "source": [
    "# Extract the year from 'Year_of_Purchase' and convert to numeric\n",
    "df['Year_of_Purchase'] = df['Year_of_Purchase'].str.extract('(\\d{4})').astype(int)\n"
   ]
  },
  {
   "cell_type": "code",
   "execution_count": 351,
   "metadata": {},
   "outputs": [],
   "source": [
    "# Extract ownership type (e.g., First Owner, Second Owner)\n",
    "df['Owner'] = df['Owner'].str.extract('(First|Second|Third|Fourth|Fifth) Owner')\n"
   ]
  },
  {
   "cell_type": "code",
   "execution_count": 352,
   "metadata": {},
   "outputs": [],
   "source": [
    "# Remove extra text from 'Transmission' column\n",
    "df['Transmission'] = df['Transmission'].str.replace('Transmission', '', regex=False)"
   ]
  },
  {
   "cell_type": "code",
   "execution_count": 353,
   "metadata": {},
   "outputs": [],
   "source": [
    "# Remove extra text from 'Transmission' column\n",
    "df['Insurance_Type'] = df['Insurance_Type'].str.replace('Insurance Type', '', regex=False)"
   ]
  },
  {
   "cell_type": "code",
   "execution_count": null,
   "metadata": {},
   "outputs": [],
   "source": [
    "df.head()"
   ]
  },
  {
   "cell_type": "code",
   "execution_count": null,
   "metadata": {},
   "outputs": [],
   "source": [
    "df['Fuel_Type'].value_counts()"
   ]
  },
  {
   "cell_type": "code",
   "execution_count": null,
   "metadata": {},
   "outputs": [],
   "source": [
    "df['Price'].describe()"
   ]
  },
  {
   "cell_type": "code",
   "execution_count": null,
   "metadata": {},
   "outputs": [],
   "source": [
    "df['Rating'].value_counts()"
   ]
  },
  {
   "cell_type": "code",
   "execution_count": null,
   "metadata": {},
   "outputs": [],
   "source": [
    "df['Kilometers'].describe()"
   ]
  },
  {
   "cell_type": "code",
   "execution_count": null,
   "metadata": {},
   "outputs": [],
   "source": [
    "df['Owner'].value_counts()"
   ]
  },
  {
   "cell_type": "code",
   "execution_count": null,
   "metadata": {},
   "outputs": [],
   "source": [
    "df['Insurance_Type'].value_counts()"
   ]
  },
  {
   "cell_type": "markdown",
   "metadata": {},
   "source": [
    "**Exploratoy Data analysis (EDA)**"
   ]
  },
  {
   "cell_type": "code",
   "execution_count": null,
   "metadata": {},
   "outputs": [],
   "source": [
    "df.columns"
   ]
  },
  {
   "cell_type": "code",
   "execution_count": 362,
   "metadata": {},
   "outputs": [],
   "source": [
    "continous = ['Price','Kilometers']\n",
    "\n",
    "discrete_categorical = ['Owner','Fuel_Type', 'Transmission', 'Insurance_Type']\n",
    "\n",
    "discrete_count =['Year_of_Purchase','Rating','city']"
   ]
  },
  {
   "cell_type": "markdown",
   "metadata": {},
   "source": [
    "**For continous Varible**"
   ]
  },
  {
   "cell_type": "code",
   "execution_count": null,
   "metadata": {},
   "outputs": [],
   "source": [
    "plt.rcParams['figure.figsize'] = (18,8)\n",
    "\n",
    "plt.subplot(1,2,1)\n",
    "sns.histplot(df['Price'],kde=True)\n",
    "\n",
    "plt.subplot(1,2,2)\n",
    "sns.histplot(df['Kilometers'],kde=True)\n",
    "\n",
    "plt.suptitle('Univariate Analysis on Numerical Columns')\n",
    "plt.show()"
   ]
  },
  {
   "cell_type": "code",
   "execution_count": null,
   "metadata": {},
   "outputs": [],
   "source": [
    "df[continous].skew()"
   ]
  },
  {
   "cell_type": "code",
   "execution_count": null,
   "metadata": {},
   "outputs": [],
   "source": [
    "sns.heatmap(df[continous].corr(), annot=True)\n",
    "plt.show()"
   ]
  },
  {
   "cell_type": "code",
   "execution_count": null,
   "metadata": {},
   "outputs": [],
   "source": [
    "sns.pairplot(df[continous])\n",
    "plt.show()"
   ]
  },
  {
   "cell_type": "markdown",
   "metadata": {},
   "source": [
    "**For discrete Varible**"
   ]
  },
  {
   "cell_type": "code",
   "execution_count": null,
   "metadata": {},
   "outputs": [],
   "source": [
    "df[discrete_categorical].describe().T"
   ]
  },
  {
   "cell_type": "code",
   "execution_count": null,
   "metadata": {},
   "outputs": [],
   "source": [
    "plt.rcParams['figure.figsize'] = (18,8)\n",
    "\n",
    "plt.subplot(2,2,1)\n",
    "sns.countplot(df['Owner'])\n",
    "\n",
    "plt.subplot(2,2,2)\n",
    "sns.countplot(df['Fuel_Type'])\n",
    "\n",
    "plt.subplot(2,2,3)\n",
    "sns.countplot(df['Transmission'])\n",
    "\n",
    "plt.subplot(2,2,4)\n",
    "sns.countplot(df['Insurance_Type'])\n",
    "\n",
    "plt.suptitle('Univariate Analysis on Categorical Columns')\n",
    "plt.show()"
   ]
  },
  {
   "cell_type": "markdown",
   "metadata": {},
   "source": [
    "**Checking the Missing values**"
   ]
  },
  {
   "cell_type": "code",
   "execution_count": null,
   "metadata": {},
   "outputs": [],
   "source": [
    "df.isnull().sum()"
   ]
  },
  {
   "cell_type": "code",
   "execution_count": 370,
   "metadata": {},
   "outputs": [],
   "source": [
    "# Fill missing values in 'Transmission' with the mode\n",
    "transmission_mode = df['Transmission'].mode()[0]\n",
    "df['Transmission'].fillna(transmission_mode, inplace=True)\n"
   ]
  },
  {
   "cell_type": "code",
   "execution_count": 371,
   "metadata": {},
   "outputs": [],
   "source": [
    "# Fill missing values in 'owner' with the mode\n",
    "owner_mode = df['Owner'].mode()[0]\n",
    "df['Owner'].fillna(owner_mode,inplace=True)"
   ]
  },
  {
   "cell_type": "markdown",
   "metadata": {},
   "source": [
    "**Checking the Outliers**"
   ]
  },
  {
   "cell_type": "code",
   "execution_count": null,
   "metadata": {},
   "outputs": [],
   "source": [
    "# Visulize using boxplot\n",
    "\n",
    "plt.subplot(1,2,1)\n",
    "sns.boxplot(df['Price'])\n",
    "\n",
    "plt.subplot(1,2,2)\n",
    "sns.boxplot(df['Kilometers'])\n",
    "\n",
    "plt.suptitle('Outliers in the Data')\n",
    "plt.show()"
   ]
  },
  {
   "cell_type": "markdown",
   "metadata": {},
   "source": [
    "# **Step-3 Data Preprocessing**"
   ]
  },
  {
   "cell_type": "markdown",
   "metadata": {},
   "source": [
    "**Creating new columns**"
   ]
  },
  {
   "cell_type": "code",
   "execution_count": 373,
   "metadata": {},
   "outputs": [],
   "source": [
    "df['Car_Age'] = 2024 - df['Year_of_Purchase']\n",
    "df.drop(columns=['Year_of_Purchase'],inplace=True)"
   ]
  },
  {
   "cell_type": "code",
   "execution_count": null,
   "metadata": {},
   "outputs": [],
   "source": [
    "df.head()"
   ]
  },
  {
   "cell_type": "code",
   "execution_count": 375,
   "metadata": {},
   "outputs": [],
   "source": [
    "# Create 'Is_Insurance_Valid' column: 1 if insurance is valid, 0 otherwise\n",
    "valid_insurance = ['Comprehensive', 'Third Party', 'Zero Depreciation']\n",
    "df['Is_Insurance_Valid'] = df['Insurance_Type'].apply(lambda x: 1 if x in valid_insurance else 0)\n",
    "\n",
    "df.drop(columns=['Insurance_Type'],inplace=True)"
   ]
  },
  {
   "cell_type": "code",
   "execution_count": 376,
   "metadata": {},
   "outputs": [],
   "source": [
    "# Price per Kilometer (Cost efficiency)\n",
    "df['Price_per_Kilometer'] = df['Price'] / df['Kilometers']\n",
    "\n",
    "# Age group: Categorize car age\n",
    "bins = [0, 5, 10, 15, 20]\n",
    "labels = ['0-5 years', '6-10 years', '11-15 years', '16+ years']\n",
    "df['Car_Age_Group'] = pd.cut(df['Car_Age'], bins=bins, labels=labels)\n",
    "\n",
    "# Insurance status and age interaction\n",
    "df['Insurance_and_Age'] = df['Is_Insurance_Valid'] * df['Car_Age']\n",
    "\n",
    "# Normalized price (if scaling wasn't applied globally)\n",
    "df['Normalized_Price'] = df['Price'] / df['Price'].max()\n"
   ]
  },
  {
   "cell_type": "markdown",
   "metadata": {},
   "source": [
    "**Mapping**"
   ]
  },
  {
   "cell_type": "code",
   "execution_count": null,
   "metadata": {},
   "outputs": [],
   "source": [
    "insurance_mapping = {\n",
    "    'Comprehensive': 'Comprehensive',\n",
    "    'Comp': 'Comprehensive',\n",
    "    'Insurance Expired': 'Expired',\n",
    "    'Expired': 'Expired',\n",
    "    '3rd Party': 'Third Party',\n",
    "    'Third_party': 'Third Party',\n",
    "    'Zero Depreciation': 'Zero Depreciation',\n",
    "    'Zero_Dep': 'Zero Depreciation',\n",
    "    'Not Available': 'Unknown',\n",
    "    'Normal': 'Unknown',\n",
    "    'NA': 'Unknown',\n",
    "    'null': 'Unknown'\n",
    "}\n",
    "\n",
    "# Apply the mapping to the column\n",
    "df['Insurance_Type'] = df['Insurance_Type'].replace(insurance_mapping)\n",
    "\n",
    "# Display the updated value counts\n",
    "insurance_counts = df['Insurance_Type'].value_counts()\n",
    "print(insurance_counts)\n"
   ]
  },
  {
   "cell_type": "code",
   "execution_count": 268,
   "metadata": {},
   "outputs": [],
   "source": [
    "# Example mapping of city codes to city names\n",
    "city_mapping = {\n",
    "    3686: 'City_A',\n",
    "    5732: 'City_B',\n",
    "    4709: 'City_C',\n",
    "    777: 'City_D',\n",
    "    2423: 'City_E',\n",
    "    2378: 'City_F',\n",
    "    290: 'City_G',\n",
    "    1692: 'City_H',\n",
    "    2130: 'City_I',\n",
    "    769: 'City_J'\n",
    "}\n",
    "\n",
    "# Replace the city codes with their corresponding city names\n",
    "df['city'] = df['city'].map(city_mapping).fillna('Unknown')\n"
   ]
  },
  {
   "cell_type": "code",
   "execution_count": null,
   "metadata": {},
   "outputs": [],
   "source": [
    "df.head()"
   ]
  },
  {
   "cell_type": "markdown",
   "metadata": {},
   "source": [
    "**Outlier Treatment**"
   ]
  },
  {
   "cell_type": "code",
   "execution_count": 270,
   "metadata": {},
   "outputs": [],
   "source": [
    "# outlier should be retrained"
   ]
  },
  {
   "cell_type": "markdown",
   "metadata": {},
   "source": [
    "**Transformation**"
   ]
  },
  {
   "cell_type": "code",
   "execution_count": 271,
   "metadata": {},
   "outputs": [],
   "source": [
    "from scipy.stats import boxcox\n",
    "df['Price'],a = boxcox(df['Price'])\n",
    "df['Kilometers'],c = boxcox(df['Kilometers'])"
   ]
  },
  {
   "cell_type": "code",
   "execution_count": null,
   "metadata": {},
   "outputs": [],
   "source": [
    "df[continous].skew()"
   ]
  },
  {
   "cell_type": "markdown",
   "metadata": {},
   "source": [
    "**Encoding**"
   ]
  },
  {
   "cell_type": "code",
   "execution_count": 274,
   "metadata": {},
   "outputs": [],
   "source": [
    "df['city']= df['city'].replace({'City_A':0, 'City_B':1, 'City_C':2,\n",
    "                                'City_D':3, 'City_E':4, 'City_F':5,\n",
    "                                'City_G':6, 'City_H':7, 'City_I':8, 'City_J':9})"
   ]
  },
  {
   "cell_type": "code",
   "execution_count": 379,
   "metadata": {},
   "outputs": [],
   "source": [
    "# Encode Car_Age_Group (if categorical)\n",
    "df = pd.get_dummies(df, columns=['Car_Age_Group'], drop_first=True)\n",
    "\n",
    "# Other categorical encodings\n",
    "df['Owner'] = df['Owner'].astype('category').cat.codes\n",
    "df['Fuel_Type'] = df['Fuel_Type'].astype('category').cat.codes\n",
    "df['Transmission'] = df['Transmission'].astype('category').cat.codes\n"
   ]
  },
  {
   "cell_type": "code",
   "execution_count": null,
   "metadata": {},
   "outputs": [],
   "source": [
    "df.head()"
   ]
  },
  {
   "cell_type": "markdown",
   "metadata": {},
   "source": [
    "**Feature Scaling**"
   ]
  },
  {
   "cell_type": "code",
   "execution_count": null,
   "metadata": {},
   "outputs": [],
   "source": [
    "from sklearn.preprocessing import MinMaxScaler\n",
    "\n",
    "# Initialize MinMaxScaler\n",
    "scaler = MinMaxScaler()\n",
    "\n",
    "# Select the columns to scale (numerical features)\n",
    "columns_to_scale = ['Price', 'Kilometers', 'Car_Age']\n",
    "\n",
    "# Apply MinMaxScaler\n",
    "scaled_values = scaler.fit_transform(df[columns_to_scale])\n",
    "\n",
    "# Replace the original columns with scaled values\n",
    "df[columns_to_scale] = scaled_values\n",
    "\n",
    "# Display the scaled dataset\n",
    "df.head()\n"
   ]
  },
  {
   "cell_type": "code",
   "execution_count": null,
   "metadata": {},
   "outputs": [],
   "source": [
    "df['Insurance_and_Age'].unique()"
   ]
  },
  {
   "cell_type": "code",
   "execution_count": null,
   "metadata": {},
   "outputs": [],
   "source": [
    "df.columns"
   ]
  },
  {
   "cell_type": "code",
   "execution_count": null,
   "metadata": {},
   "outputs": [],
   "source": [
    "import seaborn as sns\n",
    "import matplotlib.pyplot as plt\n",
    "correlation_matrix = df.corr()\n",
    "sns.heatmap(correlation_matrix, annot=True, cmap='coolwarm')\n",
    "plt.show()\n"
   ]
  },
  {
   "cell_type": "markdown",
   "metadata": {},
   "source": [
    "# Feature Selection"
   ]
  },
  {
   "cell_type": "markdown",
   "metadata": {},
   "source": [
    "- **Rating:** Higher ratings could reflect better quality or demand.\n",
    "- **City:** Regional demand and market conditions can influence car prices.\n",
    "- **Kilometers:** The mileage of the car directly affects its value.\n",
    "- **Owner:** The number of previous owners affects the perceived reliability and price.\n",
    "- **Fuel Type:** Different fuel types can affect pricing due to factors like fuel efficiency and environmental concerns.\n",
    "- **Transmission:** Manual vs automatic transmissions can influence the resale value.\n",
    "- **Car Age:** Older cars generally have lower prices due to depreciation.\n",
    "- **Is Insurance Valid:** Valid insurance is often associated with higher car prices.\n",
    "- **Price per Kilometer:** Derived feature to represent the relationship between car price and mileage.\n",
    "- **Insurance and Age Interaction:** Combined feature to capture the effect of insurance type on the car’s price relative to its age."
   ]
  },
  {
   "cell_type": "code",
   "execution_count": 394,
   "metadata": {},
   "outputs": [],
   "source": [
    "final_features = df[['Normalized_Price',\n",
    "    'Rating', 'city', 'Kilometers', 'Owner', 'Fuel_Type',\n",
    "    'Transmission', 'Car_Age', 'Is_Insurance_Valid', 'Price_per_Kilometer',\n",
    "    'Insurance_and_Age'\n",
    "]]\n"
   ]
  },
  {
   "cell_type": "code",
   "execution_count": null,
   "metadata": {},
   "outputs": [],
   "source": [
    "final_features.to_csv('Final.csv',index=False)"
   ]
  }
 ],
 "metadata": {
  "kernelspec": {
   "display_name": "base",
   "language": "python",
   "name": "python3"
  },
  "language_info": {
   "codemirror_mode": {
    "name": "ipython",
    "version": 3
   },
   "file_extension": ".py",
   "mimetype": "text/x-python",
   "name": "python",
   "nbconvert_exporter": "python",
   "pygments_lexer": "ipython3",
   "version": "3.12.4"
  }
 },
 "nbformat": 4,
 "nbformat_minor": 2
}
